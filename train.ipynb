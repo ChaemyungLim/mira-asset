{
 "cells": [
  {
   "cell_type": "code",
   "execution_count": 2,
   "metadata": {},
   "outputs": [],
   "source": [
    "import json\n",
    "import re\n",
    "\n",
    "from dotenv import load_dotenv\n",
    "import os\n",
    "\n",
    "load_dotenv()\n",
    "\n",
    "\n",
    "import sys\n",
    "import urllib.request\n",
    "\n",
    "import requests\n",
    "from bs4 import BeautifulSoup\n",
    "import pandas as pd"
   ]
  },
  {
   "cell_type": "markdown",
   "metadata": {},
   "source": [
    "### 쿼리에 포함된 기업명 ticker 가져오기"
   ]
  },
  {
   "cell_type": "code",
   "execution_count": 3,
   "metadata": {},
   "outputs": [],
   "source": [
    "import FinanceDataReader as fdr \n",
    "\n",
    "# # 국내 주식\n",
    "# kospi_df = fdr.StockListing('KOSPI')\n",
    "# kosdaq_df = fdr.StockListing('KOSDAQ')\n",
    "\n",
    "# # 미국주식\n",
    "# nasdaq_df = fdr.StockListing('NASDAQ')\n",
    "# nyse_df = fdr.StockListing('NYSE')"
   ]
  },
  {
   "cell_type": "code",
   "execution_count": 4,
   "metadata": {},
   "outputs": [],
   "source": [
    "def get_korname(ticker):\n",
    "    url = f\"https://m.stock.naver.com/worldstock/stock/{ticker}/total\" # 수정\n",
    "\n",
    "    html_content = requests.get(url).content\n",
    "    soup = BeautifulSoup(html_content, 'html.parser')\n",
    "    try:\n",
    "        korname = soup.find('meta', {'property': 'og:title'})['content'].replace(\" - 네이버페이 증권\", \"\")\n",
    "        return korname\n",
    "    except:\n",
    "        print(f\"{ticker} Korean Name Not Found\")\n",
    "        return None"
   ]
  },
  {
   "cell_type": "code",
   "execution_count": 5,
   "metadata": {},
   "outputs": [],
   "source": [
    "# nasdaq_df['KorName'] = ''\n",
    "\n",
    "# for index, row in nasdaq_df.iterrows():\n",
    "#     nasdaq_df.at[index, 'KorName'] = get_korname(row['Symbol'])\n",
    "\n",
    "# nyse_df['KorName'] = ''\n",
    "\n",
    "# for index, row in nyse_df.iterrows():\n",
    "#     nyse_df.at[index, 'KorName'] = get_korname(row['Symbol'])"
   ]
  },
  {
   "cell_type": "code",
   "execution_count": 6,
   "metadata": {},
   "outputs": [],
   "source": [
    "# nasdaq_df['Market'] = 'NASDAQ'\n",
    "# nyse_df['Market'] = 'NYSE'\n",
    "\n",
    "# columns = ['KorName', 'Symbol', 'Market']\n",
    "# nasdaq_df = nasdaq_df[columns]\n",
    "# nyse_df = nyse_df[columns]"
   ]
  },
  {
   "cell_type": "code",
   "execution_count": 7,
   "metadata": {},
   "outputs": [],
   "source": [
    "# columns = ['Name', 'Code', 'Market']\n",
    "# kospi_df = kospi_df[columns]\n",
    "# kosdaq_df = kosdaq_df[columns]\n",
    "\n",
    "# kospi_df.loc[:, 'Code'] = kospi_df['Code'] + \".KS\"\n",
    "# kosdaq_df.loc[:, 'Code'] = kosdaq_df['Code'] + \".KQ\""
   ]
  },
  {
   "cell_type": "code",
   "execution_count": 8,
   "metadata": {},
   "outputs": [],
   "source": [
    "# columns = ['Name', 'Ticker', 'Market']\n",
    "\n",
    "# kospi_df.columns = columns\n",
    "# kosdaq_df.columns = columns\n",
    "# nasdaq_df.columns = columns\n",
    "# nyse_df.columns = columns"
   ]
  },
  {
   "cell_type": "code",
   "execution_count": 9,
   "metadata": {},
   "outputs": [],
   "source": [
    "# company_df = pd.concat([kospi_df, kosdaq_df, nasdaq_df, nyse_df])\n",
    "# company_df.to_excel(\"company_listing.xlsx\", index=0)"
   ]
  },
  {
   "cell_type": "code",
   "execution_count": 10,
   "metadata": {},
   "outputs": [],
   "source": [
    "df = pd.read_excel(\"company_listing.xlsx\")\n",
    "df = df[df['Name'] != '네이버페이 증권'] # 이후 보완하겠음\n",
    "df.to_excel(\"company_listing.xlsx\", index=0)"
   ]
  },
  {
   "cell_type": "markdown",
   "metadata": {},
   "source": [
    "#### 뉴스 제목"
   ]
  },
  {
   "cell_type": "code",
   "execution_count": 12,
   "metadata": {},
   "outputs": [],
   "source": [
    "from langchain.agents import tool\n",
    "from pydantic import BaseModel, Field"
   ]
  },
  {
   "cell_type": "code",
   "execution_count": 13,
   "metadata": {},
   "outputs": [],
   "source": [
    "# api key 불러오기\n",
    "naver_client_id = os.getenv('NAVER_CLIENT_ID')\n",
    "naver_client_secret = os.getenv('NAVER_CLIENT_SECRET')"
   ]
  },
  {
   "cell_type": "code",
   "execution_count": 14,
   "metadata": {},
   "outputs": [],
   "source": [
    "@tool\n",
    "def get_navernews(query: str, api_key=naver_client_id, api_secret_key=naver_client_secret) -> dict:\n",
    "    \"\"\"\n",
    "    네이버 API를 사용해 특정 쿼리에 대한 네이버 블로그 검색 결과를 반환하는 함수입니다.\n",
    "    \"\"\"\n",
    "\n",
    "    encText = urllib.parse.quote(query)\n",
    "    url = \"https://openapi.naver.com/v1/search/news?query=\" + encText # JSON 결과\n",
    "\n",
    "    header={\n",
    "        \"X-Naver-Client-Id\":api_key,\n",
    "        \"X-Naver-Client-Secret\":api_secret_key\n",
    "    }\n",
    "\n",
    "    payload={\n",
    "        \"query\":bytes(query, 'UTF-8'),\n",
    "        \"display\":10, # 100\n",
    "        \"sort\":'sim' # sim(정확도순)/date(날짜순)\n",
    "    }\n",
    "\n",
    "    response = requests.get(url,params=payload, headers=header)\n",
    "    data = json.loads(response.text)\n",
    "    return data['items']"
   ]
  },
  {
   "cell_type": "markdown",
   "metadata": {},
   "source": [
    "### 주가 정보"
   ]
  },
  {
   "cell_type": "code",
   "execution_count": 19,
   "metadata": {},
   "outputs": [],
   "source": [
    "import yfinance as yf\n",
    "from langchain.agents import tool\n",
    "from datetime import datetime, timedelta\n",
    "\n",
    "\n",
    "#가장 최신일 주가 정보\n",
    "\n",
    "\n",
    "def get_today_stockprice(ticker: str) -> dict:\n",
    "    stock = yf.Ticker(ticker)\n",
    "\n",
    "    sp_df = stock.history(\n",
    "        period=\"1d\"\n",
    "        # interval='1d', # 종목에 따라 1m도 가능\n",
    "        # # start='2022-01-01',\n",
    "        # actions=True,\n",
    "        # auto_adjust=True\n",
    "    )\n",
    "    return sp_df.to_dict(orient='index')\n",
    "\n",
    "@tool\n",
    "def get_structured_stockprice(ticker: str) -> dict:\n",
    "    \"\"\"기업의 종목코드를 넣으면 해당 기업의 가장 최신 주가 정보(일단위)를 반환합니다.\"\"\"\n",
    "    for inner_dict in get_today_stockprice(ticker).values():\n",
    "        open_value = inner_dict['Open']\n",
    "        hign_value = inner_dict['High']\n",
    "        low_value = inner_dict['Low']\n",
    "        close_value = inner_dict['Close']\n",
    "        volume_value = inner_dict['Volume']\n",
    "        break\n",
    "\n",
    "    today_sp = {\n",
    "        '시가':open_value,\n",
    "        '종가':close_value,\n",
    "        '고가':hign_value,\n",
    "        '저가':low_value,\n",
    "        '거래량':volume_value\n",
    "    }\n",
    "    return today_sp\n"
   ]
  },
  {
   "cell_type": "code",
   "execution_count": 22,
   "metadata": {},
   "outputs": [],
   "source": [
    "# 전달 대비 변화\n",
    "def get_dailystockprice(ticker: str) -> dict:\n",
    "    one_month_ago = datetime.now() - timedelta(days=30)\n",
    "    formatted_date = one_month_ago.strftime('%Y-%m-%d')\n",
    "    \n",
    "    stock = yf.Ticker(ticker)\n",
    "\n",
    "    sp_df = stock.history(\n",
    "        interval='1d', # 종목에 따라 1m도 가능\n",
    "        start=formatted_date,\n",
    "        actions=True,\n",
    "        auto_adjust=True\n",
    "    )\n",
    "    return sp_df.to_dict(orient='index')"
   ]
  },
  {
   "cell_type": "code",
   "execution_count": 23,
   "metadata": {},
   "outputs": [],
   "source": [
    "@tool\n",
    "def get_structured_dprice(ticker: str) -> dict:\n",
    "    \"\"\"전날과 비교한 주가변화율을 반환합니다.\"\"\"\n",
    "    data = get_dailystockprice(ticker)\n",
    "    first_close = list(data.values())[-2]['Close']\n",
    "    last_close = list(data.values())[-1]['Close']\n",
    "\n",
    "    # 변화율 계산\n",
    "    change_rate = round(((last_close - first_close) / first_close) * 100, 2)\n",
    "\n",
    "    return change_rate"
   ]
  },
  {
   "cell_type": "code",
   "execution_count": 24,
   "metadata": {},
   "outputs": [],
   "source": [
    "@tool\n",
    "def get_structured_mprice(ticker: str) -> dict:\n",
    "    \"\"\"한달전과 비교한 주가변화율을 반환합니다.\"\"\"\n",
    "    data = get_dailystockprice(ticker)\n",
    "    first_close = list(data.values())[0]['Close']\n",
    "    last_close = list(data.values())[-1]['Close']\n",
    "\n",
    "    # 변화율 계산\n",
    "    change_rate = round(((last_close - first_close) / first_close) * 100, 3)\n",
    "\n",
    "    return change_rate"
   ]
  },
  {
   "cell_type": "code",
   "execution_count": 25,
   "metadata": {},
   "outputs": [],
   "source": [
    "# 전년도 대비 변화\n",
    "def get_ystockprice(ticker: str) -> dict:\n",
    "    one_year_ago = datetime.now() - timedelta(days=365)\n",
    "    formatted_date = one_year_ago.strftime('%Y-%m-%d')\n",
    "    \n",
    "    stock = yf.Ticker(ticker)\n",
    "\n",
    "    sp_df = stock.history(\n",
    "        interval='1d', # 종목에 따라 1m도 가능\n",
    "        start=formatted_date,\n",
    "        actions=True,\n",
    "        auto_adjust=True\n",
    "    )\n",
    "    return sp_df.to_dict(orient='index')\n",
    "\n",
    "@tool\n",
    "def get_structured_yprice(ticker: str) -> dict:\n",
    "    \"\"\"작년과 비교한 주가변화율을 반환합니다.\"\"\"\n",
    "    data = get_ystockprice(ticker)\n",
    "    first_close = list(data.values())[0]['Close']\n",
    "    last_close = list(data.values())[-1]['Close']\n",
    "\n",
    "    # 변화율 계산\n",
    "    change_rate = round(((last_close - first_close) / first_close) * 100, 2)\n",
    "\n",
    "    return change_rate"
   ]
  },
  {
   "cell_type": "markdown",
   "metadata": {},
   "source": [
    "### 주요 재무 지표"
   ]
  },
  {
   "cell_type": "code",
   "execution_count": 26,
   "metadata": {},
   "outputs": [],
   "source": [
    "import yfinance as yf\n",
    "\n",
    "def get_financials(ticker):\n",
    "    stock = yf.Ticker(ticker)\n",
    "    financial_dict = stock.get_income_stmt(as_dict=True,freq=\"quarterly\")\n",
    "\n",
    "    return financial_dict\n",
    "\n",
    "def calculate_change(data, column_name):\n",
    "    sorted_dates = sorted(data.keys())\n",
    "\n",
    "    latest_date = sorted_dates[-1]\n",
    "    previous_date = sorted_dates[-2]\n",
    "\n",
    "    latest_net_income = data[latest_date][column_name]\n",
    "    previous_net_income = data[previous_date][column_name]\n",
    "\n",
    "    change = latest_net_income - previous_net_income\n",
    "    change_percentage = round((change / previous_net_income) * 100, 2)\n",
    "\n",
    "    return latest_net_income, change_percentage"
   ]
  },
  {
   "cell_type": "code",
   "execution_count": 27,
   "metadata": {},
   "outputs": [
    {
     "data": {
      "text/plain": [
       "(23636000000.0, -30.31)"
      ]
     },
     "execution_count": 27,
     "metadata": {},
     "output_type": "execute_result"
    }
   ],
   "source": [
    "financial_data = get_financials('AAPL')\n",
    "calculate_change(financial_data, 'NetIncome') # 저번 분기 대비 순이익 변화"
   ]
  },
  {
   "cell_type": "markdown",
   "metadata": {},
   "source": [
    "### 구글 검색"
   ]
  },
  {
   "cell_type": "code",
   "execution_count": 28,
   "metadata": {},
   "outputs": [],
   "source": [
    "google_api_key = os.getenv('GOOGLE_API_KEY')\n",
    "google_searchengine_id = os.getenv('GOOGLE_SEARCHENGINE_ID')"
   ]
  },
  {
   "cell_type": "code",
   "execution_count": 29,
   "metadata": {},
   "outputs": [
    {
     "data": {
      "text/plain": [
       "[{'kind': 'customsearch#result',\n",
       "  'title': '삼성전자',\n",
       "  'htmlTitle': '<b>삼성전자</b>',\n",
       "  'link': 'https://www.samsung.com/sec/',\n",
       "  'displayLink': 'www.samsung.com',\n",
       "  'snippet': '자급제와 통신사폰 모두 삼성닷컴에서! 다양한 구매 혜택을 지금 확인해보세요. 더 알아보기 구매 혜택 보기.',\n",
       "  'htmlSnippet': '자급제와 통신사폰 모두 <b>삼성</b>닷컴에서! 다양한 구매 혜택을 지금 확인해보세요. 더 알아보기 구매 혜택 보기.',\n",
       "  'formattedUrl': 'https://www.samsung.com/sec/',\n",
       "  'htmlFormattedUrl': 'https://www.samsung.com/sec/',\n",
       "  'pagemap': {'cse_thumbnail': [{'src': 'https://encrypted-tbn0.gstatic.com/images?q=tbn:ANd9GcRK3NpT5Ij1YqSDFy0rpPB54FMIATJN4Odx9lg-dYkc42Z-dISSLYv2H18r&s',\n",
       "     'width': '225',\n",
       "     'height': '225'}],\n",
       "   'metatags': [{'og:image': 'https://images.samsung.com/kdp/st/1/5ab39f9a-9f76-4be5-b7e2-ecf40795aade.png',\n",
       "     'twitter:card': 'Summary',\n",
       "     'twitter:title': 'Samsung 대한민국 | 모바일 | TV | 가전 | IT',\n",
       "     'og:type': 'website',\n",
       "     'og:site_name': 'Samsung sec',\n",
       "     'twitter:url': 'https://www.samsung.com/sec/',\n",
       "     'og:title': 'Samsung 대한민국 | 모바일 | TV | 가전 | IT',\n",
       "     'twitter:creator': '@samsungkorea',\n",
       "     'og:description': '모바일 | TV | 가전 | IT',\n",
       "     'sitecode': 'sec',\n",
       "     'twitter:site': '@samsungkorea',\n",
       "     'viewport': 'width=device-width, initial-scale=1',\n",
       "     'twitter:description': '모바일 | TV | 가전 | IT',\n",
       "     'og:locale': 'ko',\n",
       "     'og:url': 'https://www.samsung.com/sec/',\n",
       "     'og:country-name': 'sec'}],\n",
       "   'cse_image': [{'src': 'https://images.samsung.com/kdp/st/1/5ab39f9a-9f76-4be5-b7e2-ecf40795aade.png'}]}},\n",
       " {'kind': 'customsearch#result',\n",
       "  'title': '삼성전자서비스',\n",
       "  'htmlTitle': '<b>삼성전자</b>서비스',\n",
       "  'link': 'https://www.samsungsvc.co.kr/',\n",
       "  'displayLink': 'www.samsungsvc.co.kr',\n",
       "  'snippet': '서비스센터(위치/수리제품/영업시간), 출장서비스(☎1588-3366)예약, 제품 상담, 소모품샵, 다운로드 등 다양한 서비스를 제공하고 있습니다.',\n",
       "  'htmlSnippet': '서비스센터(위치/수리제품/영업시간), 출장서비스(☎1588-3366)예약, 제품 상담, 소모품샵, 다운로드 등 다양한 서비스를 제공하고 있습니다.',\n",
       "  'formattedUrl': 'https://www.samsungsvc.co.kr/',\n",
       "  'htmlFormattedUrl': 'https://www.samsungsvc.co.kr/',\n",
       "  'pagemap': {'cse_thumbnail': [{'src': 'https://encrypted-tbn0.gstatic.com/images?q=tbn:ANd9GcTtM4NM6CHhLAGDWPKj5yjMxMkYBz6-0l1dHEwlCd8kZoo9dPpmaXjFNvU&s',\n",
       "     'width': '264',\n",
       "     'height': '55'}],\n",
       "   'organization': [{'url': 'https://www.samsungsvc.co.kr/',\n",
       "     'sameas': 'https://www.instagram.com/samsung_svc/'}],\n",
       "   'metatags': [{'og:image': 'https://www.samsungsvc.co.kr/assets/img/og_ci.jpg',\n",
       "     'og:type': 'website',\n",
       "     'naver-site-verification': 'e5b438a831224b96690293628f673d0b9ade768d',\n",
       "     'og:site_name': '삼성전자서비스',\n",
       "     'viewport': 'width=device-width,initial-scale=1.0,minimum-scale=1.0,maximum-scale=1.0',\n",
       "     'og:title': '삼성전자서비스',\n",
       "     'keyword': '서비스센터 정보, AS신청, 제품수리, 제품문의, 이메일 상담, 챗봇 상담, 수어 상담, 요금안내, 많이하는 질문, 다운로드, 제품고장 해결방법, 업무시간, 영업시간, 드라이버 설치, 사용설명서, 간단조치, 고객센터 전화번호, 소모품',\n",
       "     'og:url': 'https://www.samsungsvc.co.kr/',\n",
       "     'og:description': '서비스센터(위치/수리제품/영업시간), 출장서비스(☎1588-3366)예약, 제품 상담, 소모품샵, 다운로드 등 다양한 서비스를 제공하고 있습니다.',\n",
       "     'facebook-domain-verification': '9mfihx7ichp93ay86sa95suugjaiy7'}],\n",
       "   'cse_image': [{'src': 'https://www.samsungsvc.co.kr/assets/img/og_ci.jpg'}]}},\n",
       " {'kind': 'customsearch#result',\n",
       "  'title': '삼성전자 뉴스룸',\n",
       "  'htmlTitle': '<b>삼성전자</b> 뉴스룸',\n",
       "  'link': 'https://news.samsung.com/kr/',\n",
       "  'displayLink': 'news.samsung.com',\n",
       "  'snippet': 'Samsung Newsroom Korea – 삼성전자 뉴스룸은 삼성전자의 대표 뉴스 채널입니다. · 영국. 런던 길거리에서 눈길을 사로잡는 90도로 접힌 버스 · 싱가포르. 영감에서 혁신\\xa0...',\n",
       "  'htmlSnippet': 'Samsung Newsroom Korea – <b>삼성전자</b> 뉴스룸은 <b>삼성전자</b>의 대표 뉴스 채널입니다. &middot; 영국. 런던 길거리에서 눈길을 사로잡는 90도로 접힌 버스 &middot; 싱가포르. 영감에서 혁신&nbsp;...',\n",
       "  'formattedUrl': 'https://news.samsung.com/kr/',\n",
       "  'htmlFormattedUrl': 'https://news.samsung.com/kr/',\n",
       "  'pagemap': {'cse_thumbnail': [{'src': 'https://encrypted-tbn0.gstatic.com/images?q=tbn:ANd9GcRkG0VuW3D6iy-wDRcvHhLvozQ3D14ta8p9wMdlzo4uo5QK6LMtFxkHZ_UL&s',\n",
       "     'width': '299',\n",
       "     'height': '168'}],\n",
       "   'metatags': [{'og:image': 'https://news.samsung.com/kr/wp-content/themes/btr_newsroom/images/default_image.png',\n",
       "     'viewport': 'width=device-width, initial-scale=1.0, maximum-scale=1.0, user-scalable=no',\n",
       "     'og:title': 'Samsung Newsroom Korea - 삼성전자 뉴스룸은 삼성전자의 대표 뉴스 채널입니다.',\n",
       "     'og:url': 'https://news.samsung.com/kr',\n",
       "     'og:description': '삼성전자 뉴스룸은 삼성전자의 대표 뉴스 채널입니다.',\n",
       "     'format-detection': 'telephone=no'}],\n",
       "   'cse_image': [{'src': 'https://news.samsung.com/kr/wp-content/themes/btr_newsroom/images/default_image.png'}]}},\n",
       " {'kind': 'customsearch#result',\n",
       "  'title': 'Samsung US | Mobile | TV | Home Electronics | Home Appliances ...',\n",
       "  'htmlTitle': 'Samsung US | Mobile | TV | Home Electronics | Home Appliances ...',\n",
       "  'link': 'https://www.samsung.com/us/',\n",
       "  'displayLink': 'www.samsung.com',\n",
       "  'snippet': 'Discover the latest in electronic & smart appliance technology with Samsung. Find the next big thing from smartphones & tablets to laptops & tvs & more.',\n",
       "  'htmlSnippet': 'Discover the latest in electronic &amp; smart appliance technology with Samsung. Find the next big thing from smartphones &amp; tablets to laptops &amp; tvs &amp; more.',\n",
       "  'formattedUrl': 'https://www.samsung.com/us/',\n",
       "  'htmlFormattedUrl': 'https://www.samsung.com/us/',\n",
       "  'pagemap': {'cse_thumbnail': [{'src': 'https://encrypted-tbn0.gstatic.com/images?q=tbn:ANd9GcT4VJhqk1vM6cRUUDNv9CXocShAKBhr3dYpsKMDzwvNgWPg1K03xRE8E38&s',\n",
       "     'width': '225',\n",
       "     'height': '225'}],\n",
       "   'metatags': [{'p:domain_verify': '43de77e548941cb72905cda5a6974629',\n",
       "     'date': '2024-07-26',\n",
       "     'og:image': 'https://www.samsung.com/etc.clientlibs/samsung/clientlibs/consumer/global/clientlib-common/resources/images/logo-square-letter.png',\n",
       "     'image': 'https://www.samsung.com/etc.clientlibs/samsung/clientlibs/consumer/global/clientlib-common/resources/images/logo-square-letter.png',\n",
       "     'twitter:card': 'Summary',\n",
       "     'twitter:title': 'Mobile | TV | Home Electronics | Home Appliances | Samsung US',\n",
       "     'og:type': 'website',\n",
       "     'og:site_name': 'Samsung',\n",
       "     'twitter:url': 'https://www.samsung.com/us/',\n",
       "     'og:title': 'Mobile | TV | Home Electronics | Home Appliances | Samsung US',\n",
       "     'title': 'Samsung US | Mobile | TV | Home Electronics | Home Appliances | Samsung US',\n",
       "     'twitter:creator': '@SamsungUSA',\n",
       "     'og:description': 'Discover the latest in electronic & smart appliance technology with Samsung. Find the next big thing from smartphones & tablets to laptops & tvs & more.',\n",
       "     'twitter:image': 'https://www.samsung.com/etc.clientlibs/samsung/clientlibs/consumer/global/clientlib-common/resources/images/logo-square-letter.png',\n",
       "     'url': 'https://www.samsung.com/us/',\n",
       "     'sitecode': 'us',\n",
       "     'twitter:site': '@SamsungUSA',\n",
       "     'viewport': 'width=device-width,initial-scale=1.0,minimum-scale=1.0',\n",
       "     'twitter:description': 'Discover the latest in electronic & smart appliance technology with Samsung. Find the next big thing from smartphones & tablets to laptops & tvs & more.',\n",
       "     'og:locale': 'en',\n",
       "     'name': 'Samsung',\n",
       "     'og:url': 'https://www.samsung.com/us/',\n",
       "     'og:country-name': 'us'}],\n",
       "   'cse_image': [{'src': 'https://www.samsung.com/etc.clientlibs/samsung/clientlibs/consumer/global/clientlib-common/resources/images/logo-square-letter.png'}]}},\n",
       " {'kind': 'customsearch#result',\n",
       "  'title': '삼성전자 - 나무위키',\n",
       "  'htmlTitle': '<b>삼성전자</b> - 나무위키',\n",
       "  'link': 'https://namu.wiki/w/%EC%82%BC%EC%84%B1%EC%A0%84%EC%9E%90',\n",
       "  'displayLink': 'namu.wiki',\n",
       "  'snippet': \"삼성전자는 자원순환 극대화를 위해 소재 재활용 기술과 제품 적용을 연구하는 조직인 '순환경제연구소'를 설립했다. 이 연구소는 재활용 소재 개발, 폐기물 자원 추출\\xa0...\",\n",
       "  'htmlSnippet': '<b>삼성전자</b>는 자원순환 극대화를 위해 소재 재활용 기술과 제품 적용을 연구하는 조직인 &#39;순환경제연구소&#39;를 설립했다. 이 연구소는 재활용 소재 개발, 폐기물 자원 추출&nbsp;...',\n",
       "  'formattedUrl': 'https://namu.wiki/w/삼성전자',\n",
       "  'htmlFormattedUrl': 'https://namu.wiki/w/<b>삼성전자</b>',\n",
       "  'pagemap': {'metatags': [{'application-name': '나무위키',\n",
       "     'msapplication-starturl': '/w/%EB%82%98%EB%AC%B4%EC%9C%84%ED%82%A4:%EB%8C%80%EB%AC%B8',\n",
       "     'og:image': '//i.namu.wiki/i/RBWHkNIEk-9-odY-mY7g2g-KJ4dBpmKu6GYq9sjVb6eb4hZ2UMlcBVvkfzM1waR2K9_JQnvGnGZ7tTSLihfsmA.svg',\n",
       "     'og:type': 'article',\n",
       "     'theme-color': '#00a69c',\n",
       "     'og:site_name': '나무위키',\n",
       "     'viewport': 'user-scalable=no, initial-scale=1, width=device-width, viewport-fit=cover',\n",
       "     'msapplication-tooltip': '나무위키',\n",
       "     'og:title': '삼성전자',\n",
       "     'mobile-web-app-capable': 'yes',\n",
       "     'og:url': 'https://namu.wiki/w/%EC%82%BC%EC%84%B1%EC%A0%84%EC%9E%90',\n",
       "     'og:description': '파일:삼성디지털시티 모바일연구소.jpg 삼성디지털시티 삼성그룹 을 대표하는 최대 규모의 계열사이다.  시가총액  기'}]}},\n",
       " {'kind': 'customsearch#result',\n",
       "  'title': 'SAMSUNG 삼성전자판매',\n",
       "  'htmlTitle': 'SAMSUNG <b>삼성전자</b>판매',\n",
       "  'link': 'https://www.samsungstore.com/',\n",
       "  'displayLink': 'www.samsungstore.com',\n",
       "  'snippet': '삼성전자판매 운영 사이트에서 삼성전자의 다양한 제품을 만나보세요.',\n",
       "  'htmlSnippet': '<b>삼성전자</b>판매 운영 사이트에서 <b>삼성전자</b>의 다양한 제품을 만나보세요.',\n",
       "  'formattedUrl': 'https://www.samsungstore.com/',\n",
       "  'htmlFormattedUrl': 'https://www.samsungstore.com/',\n",
       "  'pagemap': {'cse_thumbnail': [{'src': 'https://encrypted-tbn0.gstatic.com/images?q=tbn:ANd9GcT6KvUGOQ1bcPpoUgz9-w1L4V6dIEUkjxaqnmsK9MgRaQCQexWGBJpR65o&s',\n",
       "     'width': '310',\n",
       "     'height': '163'}],\n",
       "   'metatags': [{'og:image': 'https://www.samsungstore.com/images/new/main/og_samsungstore.png',\n",
       "     'og:type': 'website',\n",
       "     'viewport': 'width=device-width, initial-scale=1.0, maximum-scale=1.0, user-scalable=no',\n",
       "     'og:title': '세상에 없던 AI 라이프.',\n",
       "     'title': 'SAMSUNG 삼성전자판매 |',\n",
       "     'og:url': 'https://www.samsungstore.com/main/main.sesc'}],\n",
       "   'cse_image': [{'src': 'https://www.samsungstore.com/images/new/main/og_samsungstore.png'}]}},\n",
       " {'kind': 'customsearch#result',\n",
       "  'title': '삼성전자(005930)',\n",
       "  'htmlTitle': '<b>삼성전자</b>(005930)',\n",
       "  'link': 'https://finance.naver.com/item/main.nhn?code=005930',\n",
       "  'displayLink': 'finance.naver.com',\n",
       "  'formattedUrl': 'https://finance.naver.com/item/main.nhn?code=005930',\n",
       "  'htmlFormattedUrl': 'https://finance.naver.com/item/main.nhn?code=005930'},\n",
       " {'kind': 'customsearch#result',\n",
       "  'title': '삼성전자 뉴스룸 [Samsung Newsroom] - YouTube',\n",
       "  'htmlTitle': '<b>삼성전자</b> 뉴스룸 [Samsung Newsroom] - YouTube',\n",
       "  'link': 'https://www.youtube.com/channel/UC2C-970d2o-YGLPqsG6FcWQ',\n",
       "  'displayLink': 'www.youtube.com',\n",
       "  'snippet': \"삼성전자 뉴스룸 [Samsung Newsroom] · New Ways to Communicate | Galaxy AI · What's New · Galaxy Unpacked 2024 · 산청토기와의 봄날 · 셀프리뷰 · 소중한 인연에 감사\\xa0...\",\n",
       "  'htmlSnippet': '<b>삼성전자</b> 뉴스룸 [Samsung Newsroom] &middot; New Ways to Communicate | Galaxy AI &middot; What&#39;s New &middot; Galaxy Unpacked 2024 &middot; 산청토기와의 봄날 &middot; 셀프리뷰 &middot; 소중한 인연에 감사&nbsp;...',\n",
       "  'formattedUrl': 'https://www.youtube.com/channel/UC2C-970d2o-YGLPqsG6FcWQ',\n",
       "  'htmlFormattedUrl': 'https://www.youtube.com/channel/UC2C-970d2o-YGLPqsG6FcWQ',\n",
       "  'pagemap': {'hcard': [{'fn': '삼성전자 뉴스룸 [Samsung Newsroom]',\n",
       "     'url': 'https://www.youtube.com/channel/UC2C-970d2o-YGLPqsG6FcWQ'}],\n",
       "   'cse_thumbnail': [{'src': 'https://encrypted-tbn0.gstatic.com/images?q=tbn:ANd9GcR2OwrRs-ij0xmZ5hMF79zfJ7COBPkrtD8mJBeI2iHB6yyVNPKfUar7EB73&s',\n",
       "     'width': '225',\n",
       "     'height': '225'}],\n",
       "   'imageobject': [{'width': '900',\n",
       "     'url': 'https://yt3.googleusercontent.com/ytc/AIdro_lASiOXqTBmNH_TTXa6KcbC13KFfvPTjH9VNuarUoy5enI=s900-c-k-c0x00ffffff-no-rj',\n",
       "     'height': '900'}],\n",
       "   'person': [{'name': '삼성전자 뉴스룸 [Samsung Newsroom]',\n",
       "     'url': 'https://www.youtube.com/channel/UC2C-970d2o-YGLPqsG6FcWQ'}],\n",
       "   'metatags': [{'apple-itunes-app': 'app-id=544007664, app-argument=https://m.youtube.com/channel/UC2C-970d2o-YGLPqsG6FcWQ?referring_app=com.apple.mobilesafari-smartbanner, affiliate-data=ct=smart_app_banner_polymer&pt=9008',\n",
       "     'og:image': 'https://yt3.googleusercontent.com/ytc/AIdro_lASiOXqTBmNH_TTXa6KcbC13KFfvPTjH9VNuarUoy5enI=s900-c-k-c0x00ffffff-no-rj',\n",
       "     'twitter:app:url:iphone': 'vnd.youtube://www.youtube.com/channel/UC2C-970d2o-YGLPqsG6FcWQ',\n",
       "     'twitter:app:id:googleplay': 'com.google.android.youtube',\n",
       "     'theme-color': 'rgb(255, 255, 255)',\n",
       "     'og:image:width': '900',\n",
       "     'twitter:card': 'summary',\n",
       "     'og:site_name': 'YouTube',\n",
       "     'twitter:url': 'https://www.youtube.com/channel/UC2C-970d2o-YGLPqsG6FcWQ',\n",
       "     'twitter:app:url:ipad': 'vnd.youtube://www.youtube.com/channel/UC2C-970d2o-YGLPqsG6FcWQ',\n",
       "     'al:android:package': 'com.google.android.youtube',\n",
       "     'twitter:app:name:googleplay': 'YouTube',\n",
       "     'al:ios:url': 'vnd.youtube://www.youtube.com/channel/UC2C-970d2o-YGLPqsG6FcWQ',\n",
       "     'twitter:app:id:iphone': '544007664',\n",
       "     'og:description': 'Welcome to the official Samsung Newsroom Youtube channel, where you can find the latest videos about our people, products, and services. \\n\\n삼성전자 뉴스룸 공식 유튜브 채널입니다.\\n삼성전자의 최신 뉴스와 제품 소식, 임직원 스토리 등 다양한 영상들을 만나보세요!',\n",
       "     'al:ios:app_store_id': '544007664',\n",
       "     'twitter:image': 'https://yt3.googleusercontent.com/ytc/AIdro_lASiOXqTBmNH_TTXa6KcbC13KFfvPTjH9VNuarUoy5enI=s900-c-k-c0x00ffffff-no-rj',\n",
       "     'twitter:site': '@youtube',\n",
       "     'og:type': 'profile',\n",
       "     'twitter:title': '삼성전자 뉴스룸 [Samsung Newsroom]',\n",
       "     'al:ios:app_name': 'YouTube',\n",
       "     'og:title': '삼성전자 뉴스룸 [Samsung Newsroom]',\n",
       "     'og:image:height': '900',\n",
       "     'twitter:app:id:ipad': '544007664',\n",
       "     'al:web:url': 'https://www.youtube.com/channel/UC2C-970d2o-YGLPqsG6FcWQ?feature=applinks',\n",
       "     'og:video:tag': 'Samsung',\n",
       "     'al:android:url': 'https://www.youtube.com/channel/UC2C-970d2o-YGLPqsG6FcWQ?feature=applinks',\n",
       "     'fb:app_id': '87741124305',\n",
       "     'twitter:app:url:googleplay': 'https://www.youtube.com/channel/UC2C-970d2o-YGLPqsG6FcWQ',\n",
       "     'twitter:app:name:ipad': 'YouTube',\n",
       "     'viewport': 'width=device-width, initial-scale=1.0, minimum-scale=1.0, maximum-scale=1.0, user-scalable=no,',\n",
       "     'twitter:description': 'Welcome to the official Samsung Newsroom Youtube channel, where you can find the latest videos about our people, products, and services. \\n\\n삼성전자 뉴스룸 공식 유튜브 채널입니다.\\n삼성전자의 최신 뉴스와 제품 소식, 임직원 스토리 등 다양한 영상들을 만나보세요!',\n",
       "     'og:url': 'https://www.youtube.com/channel/UC2C-970d2o-YGLPqsG6FcWQ',\n",
       "     'al:android:app_name': 'YouTube',\n",
       "     'twitter:app:name:iphone': 'YouTube'}],\n",
       "   'cse_image': [{'src': 'https://yt3.googleusercontent.com/ytc/AIdro_lASiOXqTBmNH_TTXa6KcbC13KFfvPTjH9VNuarUoy5enI=s900-c-k-c0x00ffffff-no-rj'}]}},\n",
       " {'kind': 'customsearch#result',\n",
       "  'title': '삼성전자-패밀리몰-임직원몰',\n",
       "  'htmlTitle': '<b>삼성전자</b>-패밀리몰-임직원몰',\n",
       "  'link': 'https://www.samsungebiz.com/welfare/familymall/member/indexLogin/',\n",
       "  'displayLink': 'www.samsungebiz.com',\n",
       "  'snippet': '삼성전자 부천 산업단지 비즈니스 특가몰 ... 삼성전자 B2B고객사 임직원들을 위한 쇼핑몰입니다. 임직원 인증코드로 로그인한 고객만 세부 내용을\\xa0...',\n",
       "  'htmlSnippet': '<b>삼성전자</b> 부천 산업단지 비즈니스 특가몰 ... <b>삼성전자</b> B2B고객사 임직원들을 위한 쇼핑몰입니다. 임직원 인증코드로 로그인한 고객만 세부 내용을&nbsp;...',\n",
       "  'formattedUrl': 'https://www.samsungebiz.com/welfare/familymall/member/indexLogin/',\n",
       "  'htmlFormattedUrl': 'https://www.samsungebiz.com/welfare/familymall/member/indexLogin/',\n",
       "  'pagemap': {'cse_thumbnail': [{'src': 'https://encrypted-tbn0.gstatic.com/images?q=tbn:ANd9GcRg7wt_9KUl-9nk_M-tm6c2QXiK5mtSXXfuF1navUZHZpOorss0JtbvyEs&s',\n",
       "     'width': '310',\n",
       "     'height': '163'}],\n",
       "   'metatags': [{'og:image': 'https://www.samsung.com/sec/static/samsung_logo.png',\n",
       "     'viewport': 'width=device-width,initial-scale=1.0',\n",
       "     'og:locale': 'ko'}],\n",
       "   'cse_image': [{'src': 'https://www.samsung.com/sec/static/samsung_logo.png'}]}},\n",
       " {'kind': 'customsearch#result',\n",
       "  'title': '삼성전자(A005930) | 지분분석 | 기업정보 | Company Guide',\n",
       "  'htmlTitle': '<b>삼성전자</b>(A005930) | 지분분석 | 기업정보 | Company Guide',\n",
       "  'link': 'https://comp.fnguide.com/SVO3/ASP/SVD_shareanalysis.asp?pGB=',\n",
       "  'displayLink': 'comp.fnguide.com',\n",
       "  'snippet': '삼성전자 · 005930 · 12월 결산 · 주주 구분 현황 · 주주 상세 · 주주변동내역.',\n",
       "  'htmlSnippet': '<b>삼성전자</b> &middot; 005930 &middot; 12월 결산 &middot; 주주 구분 현황 &middot; 주주 상세 &middot; 주주변동내역.',\n",
       "  'formattedUrl': 'https://comp.fnguide.com/SVO3/ASP/SVD_shareanalysis.asp?pGB=',\n",
       "  'htmlFormattedUrl': 'https://comp.fnguide.com/SVO3/ASP/SVD_shareanalysis.asp?pGB=',\n",
       "  'pagemap': {'cse_thumbnail': [{'src': 'https://encrypted-tbn0.gstatic.com/images?q=tbn:ANd9GcRnPblJmJS0QMmfAHq_egon1SmqZBYtXf5O1p1XowVMGIbL8TEKoGJrRl0&s',\n",
       "     'width': '271',\n",
       "     'height': '186'}],\n",
       "   'metatags': [{'viewport': 'width=device-width'}],\n",
       "   'cse_image': [{'src': 'https://cdn.fnguide.com/SVO2/chartImg/08_01/A005930_08_01.png'}]}}]"
      ]
     },
     "execution_count": 29,
     "metadata": {},
     "output_type": "execute_result"
    }
   ],
   "source": [
    "query = \"삼성전자\"  # 검색할 쿼리\n",
    "start_page = \"1\" # 몇 페이지를 검색할 것인지. 한 페이지 당 10개의 게시물을 받아들일 수 있습니다. \n",
    "\n",
    "url = f\"https://www.googleapis.com/customsearch/v1?key={google_api_key}&cx={google_searchengine_id}&q={query}&start={start_page}\"\n",
    "\n",
    "response = requests.get(url).json()['items']\n",
    "response"
   ]
  },
  {
   "cell_type": "code",
   "execution_count": 30,
   "metadata": {},
   "outputs": [],
   "source": [
    "def get_GoogleSearch(query: str, google_api_key: str, google_searchengine_id: str) -> dict:\n",
    "    \"\"\"입력한 쿼리에 대해 구글 검색 결과를 반환합니다.\"\"\"\n",
    "\n",
    "    lang = \"lang_ko\" # 언어\n",
    "    num = 10 # 반환 검색결과수\n",
    "    # sort = # 정렬\n",
    "\n",
    "    url = f\"https://www.googleapis.com/customsearch/v1?key={google_api_key}&cx={google_searchengine_id}&q={query}&lr={lang}&num={num}\"\n",
    "\n",
    "    response = requests.get(url).json()\n",
    "    return response['items']"
   ]
  },
  {
   "cell_type": "code",
   "execution_count": 31,
   "metadata": {},
   "outputs": [
    {
     "data": {
      "text/plain": [
       "{'kind': 'customsearch#result',\n",
       " 'title': '틀:Apple의 경영진 - 나무위키',\n",
       " 'htmlTitle': '틀:<b>Apple</b>의 <b>경영진</b> - 나무위키',\n",
       " 'link': 'https://namu.wiki/w/%ED%8B%80:Apple%EC%9D%98%20%EA%B2%BD%EC%98%81%EC%A7%84',\n",
       " 'displayLink': 'namu.wiki',\n",
       " 'snippet': 'May 20, 2024 ... 틀:Apple의 경영진 ; 루카 마에스트리. CFO. 2013년 ; 케이트 애덤스. 총괄고문변호사. 2017년 ; 디어드레 오브라이언. 수석부사장 (소매). 1988년 ; 제프\\xa0...',\n",
       " 'htmlSnippet': 'May 20, 2024 <b>...</b> 틀:<b>Apple</b>의 <b>경영진</b> ; 루카 마에스트리. CFO. 2013년 ; 케이트 애덤스. 총괄고문변호사. 2017년 ; 디어드레 오브라이언. 수석부사장 (소매). 1988년 ; 제프&nbsp;...',\n",
       " 'formattedUrl': 'https://namu.wiki/w/틀:Apple의%20경영진',\n",
       " 'htmlFormattedUrl': 'https://namu.wiki/w/틀:Apple의%20<b>경영진</b>',\n",
       " 'pagemap': {'cse_thumbnail': [{'src': 'https://encrypted-tbn0.gstatic.com/images?q=tbn:ANd9GcTw5NOkJDMhOOoFJE9dOfUBycCs10ZVWaBdFvsNjLJyGsSUnvEX-F55xro&s',\n",
       "    'width': '225',\n",
       "    'height': '225'}],\n",
       "  'metatags': [{'application-name': '나무위키',\n",
       "    'msapplication-starturl': '/w/%EB%82%98%EB%AC%B4%EC%9C%84%ED%82%A4:%EB%8C%80%EB%AC%B8',\n",
       "    'og:image': '//i.namu.wiki/i/d160Dqec9tDdXjSJhO_QWYqUp2DHO2B-aKvtCRxjdMwxoqSad8McPkKWnBCuWutazN79tv_w6yNZqgTZ_RBElg.svg',\n",
       "    'og:type': 'article',\n",
       "    'theme-color': '#00a69c',\n",
       "    'og:site_name': '나무위키',\n",
       "    'viewport': 'user-scalable=no, initial-scale=1.0, maximum-scale=5.0, minimum-scale=1.0, width=device-width',\n",
       "    'msapplication-tooltip': '나무위키',\n",
       "    'og:title': '틀:Apple의 경영진',\n",
       "    'mobile-web-app-capable': 'yes',\n",
       "    'og:url': 'https://namu.wiki/w/%ED%8B%80:Apple%EC%9D%98%20%EA%B2%BD%EC%98%81%EC%A7%84',\n",
       "    'og:description': '파일:Apple 로고.svg 파일:애플 워드마크.svg 경영진 이름 직책 입사 등기임원 팀 쿡 CEO 1998년 루'}],\n",
       "  'cse_image': [{'src': 'x-raw-image:///05c12c552cbbdaecbe36a0c6a5f6be036064e662099553b03d7fe0074d7f3d99'}]}}"
      ]
     },
     "execution_count": 31,
     "metadata": {},
     "output_type": "execute_result"
    }
   ],
   "source": [
    "get_GoogleSearch('애플 경영진', google_api_key, google_searchengine_id)[1]"
   ]
  },
  {
   "cell_type": "markdown",
   "metadata": {},
   "source": [
    "### 주요 경제 지표"
   ]
  },
  {
   "cell_type": "code",
   "execution_count": 32,
   "metadata": {},
   "outputs": [],
   "source": [
    "bank_api_id = os.getenv('BANK_API_ID')\n",
    "# 아직 안 만들었음 (이정도는 llm이 알지 않을까 싶어서..)"
   ]
  },
  {
   "cell_type": "markdown",
   "metadata": {},
   "source": [
    "### TEST"
   ]
  },
  {
   "cell_type": "code",
   "execution_count": 33,
   "metadata": {},
   "outputs": [],
   "source": [
    "from custom_model import hyperclovax\n",
    "from modules import StockTickerFinder, ConversationManager"
   ]
  },
  {
   "cell_type": "code",
   "execution_count": 34,
   "metadata": {},
   "outputs": [
    {
     "name": "stdout",
     "output_type": "stream",
     "text": [
      "The most similar company is: 애플 with ticker: AAPL\n"
     ]
    }
   ],
   "source": [
    "finder = StockTickerFinder()\n",
    "\n",
    "query = \"애플 살까?\"\n",
    "\n",
    "file_path = \"/company_listing.xlsx\"  \n",
    "finder.load_company_data(file_path)\n",
    "company_name, ticker = finder.find_most_similar_company(query)\n",
    "print(f\"The most similar company is: {company_name} with ticker: {ticker}\")\n",
    "\n",
    "# 뉴스\n",
    "news = get_navernews(company_name)\n",
    "news_list = []\n",
    "\n",
    "for article in news:\n",
    "    # print(article)\n",
    "    clean_title = re.sub('<[^<]+?>', '', article['title'])\n",
    "    clean_title = clean_title.replace('&quot;', '\"')\n",
    "    news_list.append(clean_title)\n",
    "\n",
    "# 주가 정보\n",
    "sp = get_structured_stockprice(ticker)\n",
    "dsp = get_structured_dprice(ticker)\n",
    "ysp = get_structured_yprice(ticker)\n",
    "\n",
    "# 재무 정보 Net Income만\n",
    "financial_data = get_financials(ticker)\n",
    "calculate_change(financial_data, 'NetIncome') # 저번 분기 대비 순이익 변화\n",
    "\n",
    "# llm 생성\n",
    "hyperclovax = hyperclovax(\n",
    "    host='https://clovastudio.stream.ntruss.com',\n",
    "    api_key='NTA0MjU2MWZlZTcxNDJiYxrm80PYC0F2nPTOcfcl6q+St7u/ykmVS25U0nuONAIC',\n",
    "    api_key_primary_val='fb8TL0kwYo5Mz8XWy0jwNuIpHmEiAqIjxkesYjnU',\n",
    "    request_id='8507dde5-9fff-45d6-ac49-3a8364f69291'\n",
    ")"
   ]
  },
  {
   "cell_type": "code",
   "execution_count": 36,
   "metadata": {},
   "outputs": [],
   "source": [
    "conversation_manager = ConversationManager()\n",
    "conversation_manager.add_message(\"system\", \"\"\"너는 투자 전문가야. 너는 아래 요인을 고려하여 투자 점수를 계산하고 이에 따라 투자 여부를 결정해. 반드시 지정한 최종형식에 따라 결과를 출력해\\r\\n\\r\\n\n",
    "        - 거시 경제 상황\\n\n",
    "        - 기업 경쟁력(매출 변화, 시장점유율)\\n\n",
    "        - 최근 뉴스: {news_list}\\n\n",
    "        - 주가: {sp}, 전날 대비 {dsp}, 전년도 대비 {ysp}\\n\n",
    "        \\n\n",
    "        \n",
    "        <투자 점수 계산식>\n",
    "        투자 점수 = 0.3 * 거시 경제 요인 + 0.2 * 기업경쟁력 + 0.3 * 최근 뉴스 + 0.2 * 주가 \\n\n",
    "        최종 투자 점수와 그렇게 판단한 근거를 반드시 아래 형식에 따라 구체적으로 설명해줘\\n\n",
    "        \n",
    "        <최종 형식>\\n\n",
    "        투자 여부: [긍정/부정]\\n\n",
    "        투자 점수: [최종 점수]\\n\n",
    "        구체적인 근거: [근거 설명]\\n\n",
    "\"\"\")"
   ]
  },
  {
   "cell_type": "code",
   "execution_count": 37,
   "metadata": {},
   "outputs": [
    {
     "name": "stdout",
     "output_type": "stream",
     "text": [
      "네, 현재 애플에 대한 투자 여부를 결정하기 위해 다음과 같은 요소들을 고려할 수 있습니다.  \n",
      "\n",
      "- 거시 경제 상황: 현재 글로벌 경제는 코로나19로 인해 불확실성이 높은 상황입니다. 그러나 애플은 세계 최대의 스마트폰 및 태블릿 제조업체로서 안정적인 매출을 유지하고 있으며, 이를 바탕으로 경기 회복 시 빠른 성장이 기대됩니다. \n",
      "\n",
      "- 기업 경쟁력: 애플은 매년 혁신적인 제품을 출시하며, 전 세계적으로 높은 브랜드\n"
     ]
    }
   ],
   "source": [
    "conversation_manager.add_message(\"user\", \"현재 애플에 투자를 할까?\")\n",
    "prompt = conversation_manager.get_payload()\n",
    "response = hyperclovax._call(prompt=prompt)\n",
    "\n",
    "\n",
    "response_content = response['content'] \n",
    "print(response_content)\n",
    "conversation_manager.add_message(\"assistant\", response) # 답변도 저장"
   ]
  },
  {
   "cell_type": "code",
   "execution_count": 38,
   "metadata": {},
   "outputs": [
    {
     "data": {
      "text/plain": [
       "{'messages': [{'role': 'system',\n",
       "   'content': '\\n            너는 투자 전문가야. 너는 아래 요인을 고려하여 투자 점수를 계산하고 이에 따라 투자 여부를 결정해. 반드시 지정한 최종형식에 따라 결과를 출력해\\r\\n\\r\\n\\n            - 거시 경제 상황\\r\\n\\n            - 기업 경쟁력(매출 변화, 시장점유율)\\r\\n\\n            - 최근 뉴스: {news_list}\\r\\n\\n            - 주가: {sp}, 전날 대비 {dsp}, 전년도 대비 {ysp}\\r\\n\\n            \\r\\n\\r\\n\\n            \\n            <투자 점수 계산식>\\n            투자 점수 = 0.3 * 거시 경제 요인 + 0.2 * 기업경쟁력 + 0.3 * 최근 뉴스 + 0.2 * 주가 \\r\\n\\r\\n\\n            최종 투자 점수와 그렇게 판단한 근거를 구체적으로 설명해줘\\n\\n\\n            \\n            <최종 형식>\\n#####\\n\\n            투자 여부: [긍정/부정]\\n\\n            투자 점수: [최종 점수]\\n\\n            구체적인 근거: [근거 설명]\\n\\n            #####\\n'},\n",
       "  {'role': 'user', 'content': '현재 애플에 투자를 할까?'},\n",
       "  {'role': 'assistant',\n",
       "   'content': {'role': 'assistant',\n",
       "    'content': '네, 현재 애플에 대한 투자 여부를 결정하기 위해 다음과 같은 요소들을 고려할 수 있습니다.  \\n\\n- 거시 경제 상황: 현재 글로벌 경제는 코로나19로 인해 불확실성이 높은 상황입니다. 그러나 애플은 세계 최대의 스마트폰 및 태블릿 제조업체로서 안정적인 매출을 유지하고 있으며, 이를 바탕으로 경기 회복 시 빠른 성장이 기대됩니다. \\n\\n- 기업 경쟁력: 애플은 매년 혁신적인 제품을 출시하며, 전 세계적으로 높은 브랜드'}}],\n",
       " 'topP': 0.8,\n",
       " 'topK': 0,\n",
       " 'temperature': 0.5,\n",
       " 'repeatPenalty': 5.0,\n",
       " 'stopBefore': [],\n",
       " 'includeAiFilters': True,\n",
       " 'seed': 0}"
      ]
     },
     "execution_count": 38,
     "metadata": {},
     "output_type": "execute_result"
    }
   ],
   "source": [
    "conversation_manager.get_payload()"
   ]
  }
 ],
 "metadata": {
  "kernelspec": {
   "display_name": "Python 3",
   "language": "python",
   "name": "python3"
  },
  "language_info": {
   "codemirror_mode": {
    "name": "ipython",
    "version": 3
   },
   "file_extension": ".py",
   "mimetype": "text/x-python",
   "name": "python",
   "nbconvert_exporter": "python",
   "pygments_lexer": "ipython3",
   "version": "3.11.3"
  }
 },
 "nbformat": 4,
 "nbformat_minor": 2
}
